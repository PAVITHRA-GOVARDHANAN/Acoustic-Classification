{
 "cells": [
  {
   "cell_type": "code",
   "execution_count": 12,
   "metadata": {},
   "outputs": [],
   "source": [
    "import pickle\n",
    "import os\n",
    "import numpy as np\n",
    "from tqdm import tqdm\n",
    "from scipy.io import wavfile\n",
    "from python_speech_features import mfcc\n",
    "from keras.models import load_model\n",
    "import pandas as pd\n",
    "from sklearn.metrics import accuracy_score\n",
    "from cfg import Config"
   ]
  },
  {
   "cell_type": "code",
   "execution_count": 20,
   "metadata": {},
   "outputs": [],
   "source": [
    "def predictions(audio_dir):\n",
    "    y_true=[]\n",
    "    y_pred=[]\n",
    "    fn_prob={}\n",
    "    print('Extracting features from audio')\n",
    "    for i in tqdm(os.listdir(audio_dir)):\n",
    "        rate, wav= wavfile.read(os.path.join(audio_dir,i))\n",
    "        label=fn2class[i]\n",
    "        c=classes.index(label)\n",
    "        y_prob = []\n",
    "        \n",
    "        for i in range(0, wav.shape[0]-config.step, config.step):\n",
    "            sample= wav[i:i+config.step]\n",
    "            x=mfcc(sample, rate, numcep=config.nfeat,nfilt=config.nfilt, nfft=config.nfft)\n",
    "            x=(x - config.min) /(config.max - config.min)\n",
    "            \n",
    "            if config.mode=='conv':\n",
    "                x=x.reshape(1,x.shape[1], x.shape[0],1)\n",
    "            \n",
    "            elif config.mode=='time':\n",
    "                x=np.expand_dims(x,axis=0)\n",
    "            \n",
    "            y_hat= model.predict(x)\n",
    "            y_prob.append(y_hat)\n",
    "            y_pred.append(np.argmax(y_hat))\n",
    "            y_true.append(c)\n",
    "        \n",
    "        fn_prob[i] = np.mean(y_prob, axis=0).flatten()\n",
    "        \n",
    "    return y_true, y_pred, fn_prob"
   ]
  },
  {
   "cell_type": "code",
   "execution_count": 18,
   "metadata": {},
   "outputs": [
    {
     "name": "stdout",
     "output_type": "stream",
     "text": [
      "Extracting features from audio\n"
     ]
    },
    {
     "name": "stderr",
     "output_type": "stream",
     "text": [
      " 30%|████████████████████████                                                         | 89/300 [00:07<00:16, 12.47it/s]C:\\Users\\pavig\\Anaconda3\\lib\\site-packages\\numpy\\core\\fromnumeric.py:3118: RuntimeWarning: Mean of empty slice.\n",
      "  out=out, **kwargs)\n",
      "C:\\Users\\pavig\\Anaconda3\\lib\\site-packages\\numpy\\core\\_methods.py:85: RuntimeWarning: invalid value encountered in double_scalars\n",
      "  ret = ret.dtype.type(ret / rcount)\n",
      "100%|████████████████████████████████████████████████████████████████████████████████| 300/300 [00:28<00:00, 10.69it/s]\n"
     ]
    }
   ],
   "source": [
    "config=Config(mode='conv')\n",
    "\n",
    "df=pd.read_csv('instruments.csv')\n",
    "classes=list(np.unique(df.label))\n",
    "fn2class=dict(zip(df.fname,df.label))\n",
    "p_path=os.path.join('pickles','conv.p')\n",
    "\n",
    "\n",
    "\n",
    "model=load_model(config.model_path)\n",
    "\n",
    "with open(p_path, 'rb') as handle:\n",
    "\n",
    "    config=pickle.load(handle)\n",
    "\n",
    "\n",
    "y_true, y_pred, fn_prob = predictions('clean')\n",
    "\n",
    "acc_score= accuracy_score(y_true=y_true, y_pred= y_pred)\n",
    "\n",
    "y_probs=[]\n",
    "\n",
    "for i , row in df.iterrows():\n",
    "    y_prob= fn_prob[row.fname]\n",
    "    y_probs.append(y_prob)\n",
    "    for c, p in zip(classes, y_prob):\n",
    "        df.at[i, c]= p\n",
    "y_pred = [classes[np.argmax(y)] for y in y_probs]\n",
    "df['y_pred']=y_pred\n",
    "df.to_csv(\"predictions.csv\", index=False)"
   ]
  },
  {
   "cell_type": "code",
   "execution_count": 19,
   "metadata": {},
   "outputs": [
    {
     "name": "stdout",
     "output_type": "stream",
     "text": [
      "Extracting features from audio\n"
     ]
    },
    {
     "name": "stderr",
     "output_type": "stream",
     "text": [
      " 30%|████████████████████████▎                                                        | 90/300 [00:18<00:34,  6.03it/s]C:\\Users\\pavig\\Anaconda3\\lib\\site-packages\\numpy\\core\\fromnumeric.py:3118: RuntimeWarning: Mean of empty slice.\n",
      "  out=out, **kwargs)\n",
      "C:\\Users\\pavig\\Anaconda3\\lib\\site-packages\\numpy\\core\\_methods.py:85: RuntimeWarning: invalid value encountered in double_scalars\n",
      "  ret = ret.dtype.type(ret / rcount)\n",
      "100%|████████████████████████████████████████████████████████████████████████████████| 300/300 [01:09<00:00,  4.32it/s]\n"
     ]
    }
   ],
   "source": [
    "config=Config(mode='time')\n",
    "\n",
    "df=pd.read_csv('instruments.csv')\n",
    "classes=list(np.unique(df.label))\n",
    "fn2class=dict(zip(df.fname,df.label))\n",
    "p_path=os.path.join('pickles','time.p')\n",
    "\n",
    "\n",
    "model=load_model(config.model_path)\n",
    "\n",
    "with open(p_path, 'rb') as handle:\n",
    "    config=pickle.load(handle)\n",
    "\n",
    "y_true, y_pred, fn_prob = predictions('clean')\n",
    "acc_score= accuracy_score(y_true=y_true, y_pred= y_pred)\n",
    "\n",
    "y_probs=[]\n",
    "\n",
    "for i , row in df.iterrows():\n",
    "    y_prob= fn_prob[row.fname]\n",
    "    y_probs.append(y_prob)\n",
    "    for c, p in zip(classes, y_prob):\n",
    "        df.at[i, c]= p\n",
    "y_pred = [classes[np.argmax(y)] for y in y_probs]\n",
    "df['y_pred']=y_pred\n",
    "df.to_csv(\"predictions_rnn.csv\", index=False)"
   ]
  },
  {
   "cell_type": "code",
   "execution_count": null,
   "metadata": {},
   "outputs": [],
   "source": []
  }
 ],
 "metadata": {
  "kernelspec": {
   "display_name": "Python 3",
   "language": "python",
   "name": "python3"
  },
  "language_info": {
   "codemirror_mode": {
    "name": "ipython",
    "version": 3
   },
   "file_extension": ".py",
   "mimetype": "text/x-python",
   "name": "python",
   "nbconvert_exporter": "python",
   "pygments_lexer": "ipython3",
   "version": "3.7.4"
  }
 },
 "nbformat": 4,
 "nbformat_minor": 2
}
